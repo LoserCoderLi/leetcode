{
 "cells": [
  {
   "cell_type": "markdown",
   "metadata": {},
   "source": [
    "给你一个整数 x ，如果 x 是一个回文整数，返回 true ；否则，返回 false 。\n",
    "\n",
    "回文数\n",
    "是指正序（从左向右）和倒序（从右向左）读都是一样的整数。\n",
    "\n",
    "例如，121 是回文，而 123 不是。\n",
    " \n",
    "\n",
    "示例 1：\n",
    "\n",
    "输入：x = 121\n",
    "输出：true\n",
    "示例 2：\n",
    "\n",
    "输入：x = -121\n",
    "输出：false\n",
    "解释：从左向右读, 为 -121 。 从右向左读, 为 121- 。因此它不是一个回文数。\n",
    "示例 3：\n",
    "\n",
    "输入：x = 10\n",
    "输出：false\n",
    "解释：从右向左读, 为 01 。因此它不是一个回文数。"
   ]
  },
  {
   "cell_type": "code",
   "execution_count": 1,
   "metadata": {},
   "outputs": [],
   "source": [
    "class Solution:\n",
    "  def isPalindrome(self, x: int) -> bool:\n",
    "    if x < 0: return False\n",
    "    \n",
    "    x= str(x)\n",
    "    left = 0\n",
    "    right = len(x) - 1\n",
    "    while True:\n",
    "      if x[left] != x[right]:\n",
    "        return False\n",
    "      left += 1\n",
    "      right -= 1\n",
    "      if left >= right:\n",
    "        return True"
   ]
  },
  {
   "cell_type": "code",
   "execution_count": 3,
   "metadata": {},
   "outputs": [
    {
     "data": {
      "text/plain": [
       "False"
      ]
     },
     "execution_count": 3,
     "metadata": {},
     "output_type": "execute_result"
    }
   ],
   "source": [
    "demo = Solution()\n",
    "x = -121\n",
    "demo.isPalindrome(x)"
   ]
  }
 ],
 "metadata": {
  "kernelspec": {
   "display_name": "leetcode_venv",
   "language": "python",
   "name": "python3"
  },
  "language_info": {
   "codemirror_mode": {
    "name": "ipython",
    "version": 3
   },
   "file_extension": ".py",
   "mimetype": "text/x-python",
   "name": "python",
   "nbconvert_exporter": "python",
   "pygments_lexer": "ipython3",
   "version": "3.10.4"
  }
 },
 "nbformat": 4,
 "nbformat_minor": 2
}
