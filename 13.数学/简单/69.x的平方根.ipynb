{
 "cells": [
  {
   "cell_type": "markdown",
   "metadata": {},
   "source": [
    "给你一个非负整数 x ，计算并返回 x 的 算术平方根 。\n",
    "\n",
    "由于返回类型是整数，结果只保留 整数部分 ，小数部分将被 舍去 。\n",
    "\n",
    "注意：不允许使用任何内置指数函数和算符，例如 pow(x, 0.5) 或者 x ** 0.5 。\n",
    "\n",
    " \n",
    "\n",
    "示例 1：\n",
    "\n",
    "输入：x = 4\n",
    "输出：2\n",
    "示例 2：\n",
    "\n",
    "输入：x = 8\n",
    "输出：2\n",
    "解释：8 的算术平方根是 2.82842..., 由于返回类型是整数，小数部分将被舍去。\n",
    " "
   ]
  },
  {
   "cell_type": "code",
   "execution_count": 34,
   "metadata": {},
   "outputs": [],
   "source": [
    "class Solution:\n",
    "  def getSqurt(self, nums, x, left, right):\n",
    "    if left>right:\n",
    "      return right\n",
    "    mid = left + (right - left) // 2\n",
    "    print(mid*mid)\n",
    "    if mid*mid == x:\n",
    "      return mid\n",
    "    elif mid*mid < x:\n",
    "      return self.getSqurt(nums, x, mid+1, right)\n",
    "    else:\n",
    "      return self.getSqurt(nums, x, left, mid-1)\n",
    "    \n",
    "  def mySqrt(self, x: int) -> int:\n",
    "    dict_sqrt = {\"0\": 0,\"1\": 1,\"2\": 1,\"3\": 1,\"4\": 2}\n",
    "    if x <= 4:\n",
    "      return dict_sqrt[str(x)]\n",
    "    nums = []\n",
    "    for i in range(0, x//2 + 1):\n",
    "        nums.append(i)\n",
    "    print(nums)\n",
    "    return self.getSqurt(nums, x, 0, len(nums)-1)"
   ]
  },
  {
   "cell_type": "code",
   "execution_count": null,
   "metadata": {},
   "outputs": [],
   "source": [
    "import math\n",
    "class Solution:\n",
    "    def mySqrt(self, x: int) -> int:\n",
    "        if x == 0:\n",
    "            return 0\n",
    "        ans = int(math.exp(0.5 * math.log(x)))\n",
    "        return ans + 1 if (ans + 1) ** 2 <= x else ans"
   ]
  },
  {
   "cell_type": "code",
   "execution_count": 35,
   "metadata": {},
   "outputs": [],
   "source": [
    "demo = Solution()\n",
    "x = 2147395599\n",
    "d = demo.mySqrt(x)"
   ]
  },
  {
   "cell_type": "code",
   "execution_count": 32,
   "metadata": {},
   "outputs": [
    {
     "data": {
      "text/plain": [
       "46339.999989210184"
      ]
     },
     "execution_count": 32,
     "metadata": {},
     "output_type": "execute_result"
    }
   ],
   "source": [
    "import math\n",
    "math.sqrt(2147395599)"
   ]
  }
 ],
 "metadata": {
  "kernelspec": {
   "display_name": "leetcode_venv",
   "language": "python",
   "name": "python3"
  },
  "language_info": {
   "codemirror_mode": {
    "name": "ipython",
    "version": 3
   },
   "file_extension": ".py",
   "mimetype": "text/x-python",
   "name": "python",
   "nbconvert_exporter": "python",
   "pygments_lexer": "ipython3",
   "version": "3.10.4"
  }
 },
 "nbformat": 4,
 "nbformat_minor": 2
}
