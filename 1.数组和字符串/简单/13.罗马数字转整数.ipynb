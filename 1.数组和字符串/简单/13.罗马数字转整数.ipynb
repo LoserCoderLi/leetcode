{
 "cells": [
  {
   "attachments": {
    "image.png": {
     "image/png": "[encoded data removed]"
    }
   },
   "cell_type": "markdown",
   "metadata": {},
   "source": [
    "13. 罗马数字转整数\n",
    "\n",
    "罗马数字包含以下七种字符: I， V， X， L，C，D 和 M。\n",
    "![image.png](attachment:image.png)\n",
    "例如， 罗马数字 2 写做 II ，即为两个并列的 1 。12 写做 XII ，即为 X + II 。 27 写做  XXVII, 即为 XX + V + II 。\n",
    "\n",
    "通常情况下，罗马数字中小的数字在大的数字的右边。但也存在特例，例如 4 不写做 IIII，而是 IV。数字 1 在数字 5 的左边，所表示的数等于大数 5 减小数 1 得到的数值 4 。同样地，数字 9 表示为 IX。这个特殊的规则只适用于以下六种情况：\n",
    "\n",
    "I 可以放在 V (5) 和 X (10) 的左边，来表示 4 和 9。\n",
    "X 可以放在 L (50) 和 C (100) 的左边，来表示 40 和 90。 \n",
    "C 可以放在 D (500) 和 M (1000) 的左边，来表示 400 和 900。\n",
    "给定一个罗马数字，将其转换成整数。\n",
    "\n",
    " \n",
    "\n",
    "示例 1:\n",
    "\n",
    "输入: s = \"III\"\n",
    "输出: 3\n",
    "示例 2:\n",
    "\n",
    "输入: s = \"IV\"\n",
    "输出: 4\n",
    "示例 3:\n",
    "\n",
    "输入: s = \"IX\"\n",
    "输出: 9\n",
    "示例 4:\n",
    "\n",
    "输入: s = \"LVIII\"\n",
    "输出: 58\n",
    "解释: L = 50, V= 5, III = 3.\n",
    "示例 5:\n",
    "\n",
    "输入: s = \"MCMXCIV\"\n",
    "输出: 1994\n",
    "解释: M = 1000, CM = 900, XC = 90, IV = 4."
   ]
  },
  {
   "cell_type": "code",
   "execution_count": 5,
   "metadata": {},
   "outputs": [],
   "source": [
    "class Solution:\n",
    "    def romanToInt(self, s: str) -> int:\n",
    "      id : int = 0\n",
    "      num : int = 0\n",
    "      \n",
    "      while(id < len(s)):\n",
    "        if s[id] == \"I\":\n",
    "          if id < (len(s) - 1):\n",
    "            if s[id + 1] == \"V\":\n",
    "              num += 4\n",
    "              id += 2\n",
    "            elif s[id + 1] == \"X\":\n",
    "              num += 9\n",
    "              id += 2\n",
    "            else:\n",
    "              num += 1\n",
    "              id += 1\n",
    "          else:\n",
    "            num += 1\n",
    "            id += 1\n",
    "            \n",
    "        elif s[id] == \"X\":\n",
    "          if id < (len(s) - 1):\n",
    "            if s[id + 1] == \"L\":\n",
    "              num += 40\n",
    "              id += 2\n",
    "            elif s[id + 1] == \"C\":\n",
    "              num += 90\n",
    "              id += 2\n",
    "            else:\n",
    "              num += 10\n",
    "              id += 1\n",
    "          else:\n",
    "            num += 10\n",
    "            id += 1\n",
    "              \n",
    "        elif s[id] == \"C\":\n",
    "          if id < (len(s) - 1):\n",
    "            if s[id + 1] == \"D\":\n",
    "              num += 400\n",
    "              id += 2\n",
    "            elif s[id + 1] == \"M\":\n",
    "              num += 900\n",
    "              id += 2\n",
    "            else:\n",
    "              num += 100\n",
    "              id += 1\n",
    "          else:\n",
    "            num += 100\n",
    "            id += 1\n",
    "            \n",
    "        elif s[id] == \"V\":\n",
    "          num += 5\n",
    "          id += 1\n",
    "        elif s[id] == \"L\":\n",
    "          num += 50\n",
    "          id += 1\n",
    "        elif s[id] == \"D\":\n",
    "          num += 500\n",
    "          id += 1\n",
    "        elif s[id] == \"M\":\n",
    "          num += 1000\n",
    "          id += 1\n",
    "          \n",
    "        else:\n",
    "          raise ValueError(\"请输入的罗马字符是在如下内容之内：I, V, X, L, C, D 和 M\")\n",
    "      \n",
    "      return num"
   ]
  },
  {
   "cell_type": "code",
   "execution_count": 7,
   "metadata": {},
   "outputs": [
    {
     "data": {
      "text/plain": [
       "1994"
      ]
     },
     "execution_count": 7,
     "metadata": {},
     "output_type": "execute_result"
    }
   ],
   "source": [
    "demo = Solution()\n",
    "s = \"MCMXCIV\"\n",
    "demo.romanToInt(s)"
   ]
  }
 ],
 "metadata": {
  "kernelspec": {
   "display_name": "leetcode_venv",
   "language": "python",
   "name": "python3"
  },
  "language_info": {
   "codemirror_mode": {
    "name": "ipython",
    "version": 3
   },
   "file_extension": ".py",
   "mimetype": "text/x-python",
   "name": "python",
   "nbconvert_exporter": "python",
   "pygments_lexer": "ipython3",
   "version": "3.10.4"
  }
 },
 "nbformat": 4,
 "nbformat_minor": 2
}
