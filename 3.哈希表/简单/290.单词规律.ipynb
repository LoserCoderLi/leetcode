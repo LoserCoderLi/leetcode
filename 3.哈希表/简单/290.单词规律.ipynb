{
 "cells": [
  {
   "cell_type": "markdown",
   "metadata": {},
   "source": [
    "290. 单词规律\n",
    "简单\n",
    "相关标签\n",
    "相关企业\n",
    "给定一种规律 pattern 和一个字符串 s ，判断 s 是否遵循相同的规律。\n",
    "\n",
    "这里的 遵循 指完全匹配，例如， pattern 里的每个字母和字符串 s 中的每个非空单词之间存在着双向连接的对应规律。\n",
    "\n",
    " \n",
    "\n",
    "示例1:\n",
    "\n",
    "输入: pattern = \"abba\", s = \"dog cat cat dog\"\n",
    "输出: true\n",
    "示例 2:\n",
    "\n",
    "输入:pattern = \"abba\", s = \"dog cat cat fish\"\n",
    "输出: false\n",
    "示例 3:\n",
    "\n",
    "输入: pattern = \"aaaa\", s = \"dog cat cat dog\"\n",
    "输出: false\n",
    " \n",
    "\n",
    "提示:\n",
    "\n",
    "1 <= pattern.length <= 300\n",
    "pattern 只包含小写英文字母\n",
    "1 <= s.length <= 3000\n",
    "s 只包含小写英文字母和 ' '\n",
    "s 不包含 任何前导或尾随对空格\n",
    "s 中每个单词都被 单个空格 分隔"
   ]
  },
  {
   "cell_type": "code",
   "execution_count": 1,
   "metadata": {},
   "outputs": [],
   "source": [
    "class Solution:\n",
    "    def wordPattern(self, pattern: str, s: str) -> bool:\n",
    "      s = s.split(\" \")\n",
    "      if len(s) != len(pattern):\n",
    "        return False\n",
    "      \n",
    "      dic_p = {}\n",
    "      id : int = 0\n",
    "      \n",
    "      while(id<len(pattern)):\n",
    "        if pattern[id] not in dic_p.keys():\n",
    "          if s[id] not in dic_p.values():\n",
    "            dic_p[pattern[id]] = s[id]\n",
    "          else:\n",
    "            return False\n",
    "        else:\n",
    "          if dic_p[pattern[id]] != s[id]:\n",
    "            return False\n",
    "          \n",
    "        id += 1\n",
    "      \n",
    "      return True"
   ]
  },
  {
   "cell_type": "code",
   "execution_count": 4,
   "metadata": {},
   "outputs": [
    {
     "data": {
      "text/plain": [
       "False"
      ]
     },
     "execution_count": 4,
     "metadata": {},
     "output_type": "execute_result"
    }
   ],
   "source": [
    "demo = Solution()\n",
    "pattern = \"abba\"\n",
    "s = \"dog cat cat dog\"\n",
    "pattern = \"abba\"\n",
    "s = \"dog cat cat fish\"\n",
    "pattern = \"aaaa\"\n",
    "s = \"dog cat cat dog\"\n",
    "demo.wordPattern(pattern,s)"
   ]
  }
 ],
 "metadata": {
  "kernelspec": {
   "display_name": "leetcode_venv",
   "language": "python",
   "name": "python3"
  },
  "language_info": {
   "codemirror_mode": {
    "name": "ipython",
    "version": 3
   },
   "file_extension": ".py",
   "mimetype": "text/x-python",
   "name": "python",
   "nbconvert_exporter": "python",
   "pygments_lexer": "ipython3",
   "version": "3.10.4"
  }
 },
 "nbformat": 4,
 "nbformat_minor": 2
}
