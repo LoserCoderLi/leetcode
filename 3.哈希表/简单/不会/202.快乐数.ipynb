{
 "cells": [
  {
   "cell_type": "markdown",
   "metadata": {},
   "source": [
    "202. 快乐数\n",
    "简单\n",
    "相关标签\n",
    "相关企业\n",
    "编写一个算法来判断一个数 n 是不是快乐数。\n",
    "\n",
    "「快乐数」 定义为：\n",
    "\n",
    "对于一个正整数，每一次将该数替换为它每个位置上的数字的平方和。\n",
    "然后重复这个过程直到这个数变为 1，也可能是 无限循环 但始终变不到 1。\n",
    "如果这个过程 结果为 1，那么这个数就是快乐数。\n",
    "如果 n 是 快乐数 就返回 true ；不是，则返回 false 。\n",
    "\n",
    " \n",
    "\n",
    "示例 1：\n",
    "\n",
    "输入：n = 19\n",
    "输出：true\n",
    "解释：\n",
    "12 + 92 = 82\n",
    "82 + 22 = 68\n",
    "62 + 82 = 100\n",
    "12 + 02 + 02 = 1\n",
    "示例 2：\n",
    "\n",
    "输入：n = 2\n",
    "输出：false\n",
    " \n",
    "\n",
    "提示：\n",
    "\n",
    "1 <= n <= 231 - 1"
   ]
  },
  {
   "cell_type": "code",
   "execution_count": null,
   "metadata": {},
   "outputs": [],
   "source": [
    "def isHappy(self, n: int) -> bool:\n",
    "\n",
    "    def get_next(n):\n",
    "        total_sum = 0\n",
    "        while n > 0:\n",
    "            n, digit = divmod(n, 10)\n",
    "            total_sum += digit ** 2\n",
    "        return total_sum\n",
    "\n",
    "    seen = set()\n",
    "    while n != 1 and n not in seen:\n",
    "        seen.add(n)\n",
    "        n = get_next(n)\n",
    "\n",
    "    return n == 1\n"
   ]
  },
  {
   "cell_type": "code",
   "execution_count": 5,
   "metadata": {},
   "outputs": [
    {
     "data": {
      "text/plain": [
       "0"
      ]
     },
     "execution_count": 5,
     "metadata": {},
     "output_type": "execute_result"
    }
   ],
   "source": [
    "x = 1959\n",
    "x % 10\n",
    "x // 10\n",
    "1%10\n",
    "1//10"
   ]
  }
 ],
 "metadata": {
  "kernelspec": {
   "display_name": "leetcode_venv",
   "language": "python",
   "name": "python3"
  },
  "language_info": {
   "codemirror_mode": {
    "name": "ipython",
    "version": 3
   },
   "file_extension": ".py",
   "mimetype": "text/x-python",
   "name": "python",
   "nbconvert_exporter": "python",
   "pygments_lexer": "ipython3",
   "version": "3.10.4"
  }
 },
 "nbformat": 4,
 "nbformat_minor": 2
}
