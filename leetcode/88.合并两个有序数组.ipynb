{
 "cells": [
  {
   "cell_type": "markdown",
   "metadata": {},
   "source": [
    "给你两个按 非递减顺序 排列的整数数组 nums1 和 nums2，另有两个整数 m 和 n ，分别表示 nums1 和 nums2 中的元素数目。\n",
    "\n",
    "请你 合并 nums2 到 nums1 中，使合并后的数组同样按 非递减顺序 排列。\n",
    "\n",
    "注意：最终，合并后数组不应由函数返回，而是存储在数组 nums1 中。为了应对这种情况，nums1 的初始长度为 m + n，其中前 m 个元素表示应合并的元素，后 n 个元素为 0 ，应忽略。nums2 的长度为 n 。\n",
    "\n",
    " \n",
    "\n",
    "示例 1：\n",
    "\n",
    "输入：nums1 = [1,2,3,0,0,0], m = 3, nums2 = [2,5,6], n = 3\n",
    "输出：[1,2,2,3,5,6]\n",
    "解释：需要合并 [1,2,3] 和 [2,5,6] 。\n",
    "合并结果是 [1,2,2,3,5,6] ，其中斜体加粗标注的为 nums1 中的元素。\n",
    "示例 2：\n",
    "\n",
    "输入：nums1 = [1], m = 1, nums2 = [], n = 0\n",
    "输出：[1]\n",
    "解释：需要合并 [1] 和 [] 。\n",
    "合并结果是 [1] 。\n",
    "示例 3：\n",
    "\n",
    "输入：nums1 = [0], m = 0, nums2 = [1], n = 1\n",
    "输出：[1]\n",
    "解释：需要合并的数组是 [] 和 [1] 。\n",
    "合并结果是 [1] 。\n",
    "注意，因为 m = 0 ，所以 nums1 中没有元素。nums1 中仅存的 0 仅仅是为了确保合并结果可以顺利存放到 nums1 中。\n",
    " "
   ]
  },
  {
   "cell_type": "code",
   "execution_count": 45,
   "metadata": {},
   "outputs": [],
   "source": [
    "class MergeArrays:\n",
    "  def __init__(self, nums1, m, nums2, n) -> None:\n",
    "    '''\n",
    "    :type nums1: List[int] 大小为 m+n 非降序\n",
    "    :type m: int num1的元素个数\n",
    "    :type nums2: List[int] 大小为 n 非降序\n",
    "    :type n: int num2 的元素大小\n",
    "    :rtype: None Do not return anything, modify nums1 in-place instead.\n",
    "    '''\n",
    "    self.nums1 = nums1\n",
    "    self.m = m\n",
    "    self.nums2 = nums2\n",
    "    self.n = n\n",
    "    \n",
    "  def run(self):\n",
    "    id1 = 0\n",
    "    id2 = 0\n",
    "    nums3 = []\n",
    "    while(True):\n",
    "      \n",
    "      if id2 < self.n and id1 < self.m:\n",
    "        if self.nums1[id1] >= self.nums2[id2]:\n",
    "          nums3.append(self.nums2[id2])\n",
    "          id2 += 1\n",
    "        else:\n",
    "          nums3.append(self.nums1[id1])\n",
    "          id1 += 1\n",
    "      elif id2 >= self.n and id1 < self.m:\n",
    "        nums3.append(self.nums1[id1])\n",
    "        id1 += 1\n",
    "      elif id2 < self.n and id1 >= self.m:\n",
    "        nums3.append(self.nums2[id2])\n",
    "        id2 += 1\n",
    "      else:\n",
    "        break\n",
    "    \n",
    "    self.nums1[:] = nums3\n",
    "    print(nums3)\n",
    "    "
   ]
  },
  {
   "cell_type": "code",
   "execution_count": 43,
   "metadata": {},
   "outputs": [],
   "source": [
    "nums1 = [1]\n",
    "m = 1\n",
    "nums2 = []\n",
    "n = 0"
   ]
  },
  {
   "cell_type": "code",
   "execution_count": 46,
   "metadata": {},
   "outputs": [
    {
     "name": "stdout",
     "output_type": "stream",
     "text": [
      "[1]\n"
     ]
    },
    {
     "data": {
      "text/plain": [
       "[1]"
      ]
     },
     "execution_count": 46,
     "metadata": {},
     "output_type": "execute_result"
    }
   ],
   "source": [
    "demo = MergeArrays(nums1,m,nums2,n)\n",
    "demo.run()\n",
    "\n",
    "nums1\n"
   ]
  },
  {
   "cell_type": "code",
   "execution_count": 10,
   "metadata": {},
   "outputs": [
    {
     "data": {
      "text/plain": [
       "5"
      ]
     },
     "execution_count": 10,
     "metadata": {},
     "output_type": "execute_result"
    }
   ],
   "source": [
    "num = [1,2,3,4,5]\n",
    "num.__len__()"
   ]
  },
  {
   "cell_type": "code",
   "execution_count": null,
   "metadata": {},
   "outputs": [],
   "source": [
    "class Solution(object):\n",
    "  def merge(self, nums1, m, nums2, n):\n",
    "    \"\"\"\n",
    "    :type nums1: List[int]\n",
    "    :type m: int\n",
    "    :type nums2: List[int]\n",
    "    :type n: int\n",
    "    :rtype: None Do not return anything, modify nums1 in-place instead.\n",
    "    \"\"\"\n",
    "    id1 = 0\n",
    "    id2 = 0\n",
    "    nums3 = []\n",
    "    while(True):\n",
    "      \n",
    "      if id2 < n and id1 < m:\n",
    "        if nums1[id1] >= nums2[id2]:\n",
    "          nums3.append(nums2[id2])\n",
    "          id2 += 1\n",
    "        else:\n",
    "          nums3.append(nums1[id1])\n",
    "          id1 += 1\n",
    "      elif id2 >= n and id1 < m:\n",
    "        nums3.append(nums1[id1])\n",
    "        id1 += 1\n",
    "      elif id2 < n and id1 >= m:\n",
    "        nums3.append(nums2[id2])\n",
    "        id2 += 1\n",
    "      else:\n",
    "        break\n",
    "    \n",
    "    nums1[:] = nums3"
   ]
  }
 ],
 "metadata": {
  "kernelspec": {
   "display_name": "leetcode_venv",
   "language": "python",
   "name": "python3"
  },
  "language_info": {
   "codemirror_mode": {
    "name": "ipython",
    "version": 3
   },
   "file_extension": ".py",
   "mimetype": "text/x-python",
   "name": "python",
   "nbconvert_exporter": "python",
   "pygments_lexer": "ipython3",
   "version": "3.10.4"
  }
 },
 "nbformat": 4,
 "nbformat_minor": 2
}
