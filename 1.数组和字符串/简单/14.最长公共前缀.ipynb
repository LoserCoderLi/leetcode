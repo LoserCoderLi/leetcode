{
 "cells": [
  {
   "cell_type": "markdown",
   "metadata": {},
   "source": [
    "14. 最长公共前缀\n",
    "简单\n",
    "相关标签\n",
    "相关企业\n",
    "编写一个函数来查找字符串数组中的最长公共前缀。\n",
    "\n",
    "如果不存在公共前缀，返回空字符串 \"\"。\n",
    "\n",
    " \n",
    "\n",
    "示例 1：\n",
    "\n",
    "输入：strs = [\"flower\",\"flow\",\"flight\"]\n",
    "输出：\"fl\"\n",
    "示例 2：\n",
    "\n",
    "输入：strs = [\"dog\",\"racecar\",\"car\"]\n",
    "输出：\"\"\n",
    "解释：输入不存在公共前缀。\n",
    " \n",
    "\n",
    "提示：\n",
    "\n",
    "1 <= strs.length <= 200\n",
    "0 <= strs[i].length <= 200\n",
    "strs[i] 仅由小写英文字母组成"
   ]
  },
  {
   "cell_type": "code",
   "execution_count": 12,
   "metadata": {},
   "outputs": [],
   "source": [
    "from typing import List\n",
    "\n",
    "\n",
    "class Solution:\n",
    "    def longestCommonPrefix(self, strs: List[str]) -> str:\n",
    "      str_g = \"\"\n",
    "      loop = True\n",
    "      add_loop = True\n",
    "      id : int = 0\n",
    "      str_temp = \"\"\n",
    "      # 最小长度\n",
    "      min_len = len(strs[0])\n",
    "      for x in strs:\n",
    "        if min_len > len(x):\n",
    "          min_len = len(x)\n",
    "      \n",
    "      while(loop):\n",
    "        \n",
    "        if id < min_len:\n",
    "          str_temp = strs[0][id]\n",
    "          \n",
    "          for x in strs:\n",
    "            if str_temp != x[id]:\n",
    "              add_loop = False\n",
    "              loop = False\n",
    "              break\n",
    "          \n",
    "          if add_loop:\n",
    "            str_g += str_temp\n",
    "            \n",
    "          id += 1\n",
    "        else:\n",
    "          loop = False\n",
    "          \n",
    "      return str_g\n",
    "      "
   ]
  },
  {
   "cell_type": "code",
   "execution_count": 13,
   "metadata": {},
   "outputs": [
    {
     "name": "stdout",
     "output_type": "stream",
     "text": [
      "flower\n",
      "flow\n",
      "flight\n",
      "f\n",
      "flower\n",
      "flow\n",
      "flight\n",
      "l\n",
      "flower\n",
      "flow\n",
      "flight\n",
      "True\n",
      "o\n"
     ]
    },
    {
     "data": {
      "text/plain": [
       "'fl'"
      ]
     },
     "execution_count": 13,
     "metadata": {},
     "output_type": "execute_result"
    }
   ],
   "source": [
    "demo = Solution()\n",
    "strs = [\"flower\",\"flow\",\"flight\"]\n",
    "demo.longestCommonPrefix(strs)"
   ]
  }
 ],
 "metadata": {
  "kernelspec": {
   "display_name": "leetcode_venv",
   "language": "python",
   "name": "python3"
  },
  "language_info": {
   "codemirror_mode": {
    "name": "ipython",
    "version": 3
   },
   "file_extension": ".py",
   "mimetype": "text/x-python",
   "name": "python",
   "nbconvert_exporter": "python",
   "pygments_lexer": "ipython3",
   "version": "3.10.4"
  }
 },
 "nbformat": 4,
 "nbformat_minor": 2
}
