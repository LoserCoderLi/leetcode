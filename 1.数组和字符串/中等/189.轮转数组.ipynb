{
 "cells": [
  {
   "cell_type": "markdown",
   "metadata": {},
   "source": [
    "189. 轮转数组\n",
    "中等\n",
    "相关标签\n",
    "相关企业\n",
    "提示\n",
    "给定一个整数数组 nums，将数组中的元素向右轮转 k 个位置，其中 k 是非负数。\n",
    "\n",
    " \n",
    "\n",
    "示例 1:\n",
    "\n",
    "输入: nums = [1,2,3,4,5,6,7], k = 3\n",
    "输出: [5,6,7,1,2,3,4]\n",
    "解释:\n",
    "向右轮转 1 步: [7,1,2,3,4,5,6]\n",
    "向右轮转 2 步: [6,7,1,2,3,4,5]\n",
    "向右轮转 3 步: [5,6,7,1,2,3,4]\n",
    "示例 2:\n",
    "\n",
    "输入：nums = [-1,-100,3,99], k = 2\n",
    "输出：[3,99,-1,-100]\n",
    "解释: \n",
    "向右轮转 1 步: [99,-1,-100,3]\n",
    "向右轮转 2 步: [3,99,-1,-100]\n",
    " \n",
    "提示：\n",
    "\n",
    "1 <= nums.length <= 105\n",
    "-231 <= nums[i] <= 231 - 1\n",
    "0 <= k <= 105"
   ]
  },
  {
   "cell_type": "code",
   "execution_count": 64,
   "metadata": {},
   "outputs": [],
   "source": [
    "class Solution(object):\n",
    "    def rotate(self, nums, k):\n",
    "        \"\"\"\n",
    "        :type nums: List[int]\n",
    "        :type k: int\n",
    "        :rtype: None Do not return anything, modify nums in-place instead.\n",
    "        \"\"\"\n",
    "        num = 0\n",
    "        id = 0\n",
    "        nums_new = []\n",
    "        for x in nums:\n",
    "          nums_new.append(x)\n",
    "          \n",
    "        while(id < len(nums)):\n",
    "          \n",
    "          nums_new[(id + k)%len(nums)] = nums[id]\n",
    "\n",
    "          id += 1\n",
    "          \n",
    "        nums[:] = nums_new"
   ]
  },
  {
   "cell_type": "code",
   "execution_count": 65,
   "metadata": {},
   "outputs": [
    {
     "name": "stdout",
     "output_type": "stream",
     "text": [
      "[1, 2, 3, 1, 5, 6, 7]\n",
      "[1, 2, 3, 1, 2, 6, 7]\n",
      "[1, 2, 3, 1, 2, 3, 7]\n",
      "[1, 2, 3, 1, 2, 3, 4]\n",
      "[5, 2, 3, 1, 2, 3, 4]\n",
      "[5, 6, 3, 1, 2, 3, 4]\n",
      "[5, 6, 7, 1, 2, 3, 4]\n",
      "[5, 6, 7, 1, 2, 3, 4]\n"
     ]
    }
   ],
   "source": [
    "demo = Solution()\n",
    "nums = [1,2,3,4,5,6,7]\n",
    "k = 3\n",
    "\n",
    "demo.rotate(nums, k)"
   ]
  },
  {
   "cell_type": "code",
   "execution_count": 33,
   "metadata": {},
   "outputs": [
    {
     "data": {
      "text/plain": [
       "[5, 6, 7, 1, 2, 3, 4]"
      ]
     },
     "execution_count": 33,
     "metadata": {},
     "output_type": "execute_result"
    }
   ],
   "source": [
    "nums"
   ]
  }
 ],
 "metadata": {
  "kernelspec": {
   "display_name": "leetcode_venv",
   "language": "python",
   "name": "python3"
  },
  "language_info": {
   "codemirror_mode": {
    "name": "ipython",
    "version": 3
   },
   "file_extension": ".py",
   "mimetype": "text/x-python",
   "name": "python",
   "nbconvert_exporter": "python",
   "pygments_lexer": "ipython3",
   "version": "3.10.4"
  }
 },
 "nbformat": 4,
 "nbformat_minor": 2
}
