{
 "cells": [
  {
   "cell_type": "markdown",
   "metadata": {},
   "source": [
    "颠倒给定的 32 位无符号整数的二进制位。\n",
    "\n",
    "提示：\n",
    "\n",
    "请注意，在某些语言（如 Java）中，没有无符号整数类型。在这种情况下，输入和输出都将被指定为有符号整数类型，并且不应影响您的实现，因为无论整数是有符号的还是无符号的，其内部的二进制表示形式都是相同的。\n",
    "在 Java 中，编译器使用二进制补码记法来表示有符号整数。因此，在 示例 2 中，输入表示有符号整数 -3，输出表示有符号整数 -1073741825。\n",
    " \n",
    "\n",
    "示例 1：\n",
    "\n",
    "输入：n = 00000010100101000001111010011100\n",
    "输出：964176192 (00111001011110000010100101000000)\n",
    "解释：输入的二进制串 00000010100101000001111010011100 表示无符号整数 43261596，\n",
    "     因此返回 964176192，其二进制表示形式为 00111001011110000010100101000000。\n",
    "示例 2：\n",
    "\n",
    "输入：n = 11111111111111111111111111111101\n",
    "输出：3221225471 (10111111111111111111111111111111)\n",
    "解释：输入的二进制串 11111111111111111111111111111101 表示无符号整数 4294967293，\n",
    "     因此返回 3221225471 其二进制表示形式为 10111111111111111111111111111111 。\n",
    " \n",
    "\n",
    "提示：\n",
    "\n",
    "输入是一个长度为 32 的二进制字符串\n",
    " \n",
    "\n",
    "进阶: 如果多次调用这个函数，你将如何优化你的算法？"
   ]
  },
  {
   "cell_type": "code",
   "execution_count": 35,
   "metadata": {},
   "outputs": [],
   "source": [
    "class Solution:\n",
    "  def reverseBits(self, n) -> int:\n",
    "    n_bin = bin(n)[2:]\n",
    "    n = str(n_bin)\n",
    "    # print(len(n))\n",
    "    str_temp = ''\n",
    "    n_temp = n[::-1]\n",
    "    n_temp = n_temp.ljust(32, '0')\n",
    "\n",
    "    return int(n_temp,2)"
   ]
  },
  {
   "cell_type": "code",
   "execution_count": 36,
   "metadata": {},
   "outputs": [
    {
     "data": {
      "text/plain": [
       "964176192"
      ]
     },
     "execution_count": 36,
     "metadata": {},
     "output_type": "execute_result"
    }
   ],
   "source": [
    "demo = Solution()\n",
    "n = 0b00000010100101000001111010011100\n",
    "demo.reverseBits(n)"
   ]
  },
  {
   "cell_type": "code",
   "execution_count": 14,
   "metadata": {},
   "outputs": [
    {
     "name": "stdout",
     "output_type": "stream",
     "text": [
      "20\n",
      "19\n",
      "18\n",
      "17\n",
      "16\n",
      "15\n",
      "14\n",
      "13\n",
      "12\n",
      "11\n",
      "10\n",
      "9\n",
      "8\n",
      "7\n",
      "6\n",
      "5\n",
      "4\n",
      "3\n",
      "2\n",
      "1\n",
      "0\n"
     ]
    }
   ],
   "source": [
    "str(11111111111111110001)\n",
    "for x in range(20, -1, -1):\n",
    "  print(x)"
   ]
  }
 ],
 "metadata": {
  "kernelspec": {
   "display_name": "leetcode_venv",
   "language": "python",
   "name": "python3"
  },
  "language_info": {
   "codemirror_mode": {
    "name": "ipython",
    "version": 3
   },
   "file_extension": ".py",
   "mimetype": "text/x-python",
   "name": "python",
   "nbconvert_exporter": "python",
   "pygments_lexer": "ipython3",
   "version": "3.10.4"
  }
 },
 "nbformat": 4,
 "nbformat_minor": 2
}
