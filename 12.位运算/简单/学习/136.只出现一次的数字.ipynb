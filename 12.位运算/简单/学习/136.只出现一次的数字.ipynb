{
 "cells": [
  {
   "cell_type": "markdown",
   "metadata": {},
   "source": [
    "给你一个 非空 整数数组 nums ，除了某个元素只出现一次以外，其余每个元素均出现两次。找出那个只出现了一次的元素。\n",
    "\n",
    "你必须设计并实现线性时间复杂度的算法来解决此问题，且该算法只使用常量额外空间。\n",
    "\n",
    " \n",
    "\n",
    "示例 1 ：\n",
    "\n",
    "输入：nums = [2,2,1]\n",
    "输出：1\n",
    "\n",
    "示例 2 ：\n",
    "\n",
    "输入：nums = [4,1,2,1,2]\n",
    "输出：4\n",
    "\n",
    "示例 3 ：\n",
    "\n",
    "输入：nums = [1]\n",
    "输出：1\n",
    " \n",
    "\n",
    "提示：\n",
    "\n",
    "1 <= nums.length <= 3 * 104\n",
    "-3 * 104 <= nums[i] <= 3 * 104\n",
    "除了某个元素只出现一次以外，其余每个元素均出现两次。"
   ]
  },
  {
   "cell_type": "code",
   "execution_count": 9,
   "metadata": {},
   "outputs": [],
   "source": [
    "from typing import List\n",
    "\n",
    "class Solution:\n",
    "    def singleNumber(self, nums: List[int]) -> int:\n",
    "      sum = nums[0]\n",
    "      for x in nums[1:]:\n",
    "        sum = sum ^ x\n",
    "      \n",
    "      return sum"
   ]
  },
  {
   "cell_type": "code",
   "execution_count": 11,
   "metadata": {},
   "outputs": [
    {
     "data": {
      "text/plain": [
       "4"
      ]
     },
     "execution_count": 11,
     "metadata": {},
     "output_type": "execute_result"
    }
   ],
   "source": [
    "demo = Solution()\n",
    "nums = [4,1,2,1,2]\n",
    "demo.singleNumber(nums)"
   ]
  }
 ],
 "metadata": {
  "kernelspec": {
   "display_name": "leetcode_venv",
   "language": "python",
   "name": "python3"
  },
  "language_info": {
   "codemirror_mode": {
    "name": "ipython",
    "version": 3
   },
   "file_extension": ".py",
   "mimetype": "text/x-python",
   "name": "python",
   "nbconvert_exporter": "python",
   "pygments_lexer": "ipython3",
   "version": "3.10.4"
  }
 },
 "nbformat": 4,
 "nbformat_minor": 2
}
