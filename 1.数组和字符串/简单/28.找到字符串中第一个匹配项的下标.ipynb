{
 "cells": [
  {
   "cell_type": "markdown",
   "metadata": {},
   "source": [
    "28. 找出字符串中第一个匹配项的下标\n",
    "简单\n",
    "相关标签\n",
    "相关企业\n",
    "给你两个字符串 haystack 和 needle ，请你在 haystack 字符串中找出 needle 字符串的第一个匹配项的下标（下标从 0 开始）。如果 needle 不是 haystack 的一部分，则返回  -1 。\n",
    "\n",
    " \n",
    "\n",
    "示例 1：\n",
    "\n",
    "输入：haystack = \"sadbutsad\", needle = \"sad\"\n",
    "输出：0\n",
    "解释：\"sad\" 在下标 0 和 6 处匹配。\n",
    "第一个匹配项的下标是 0 ，所以返回 0 。\n",
    "示例 2：\n",
    "\n",
    "输入：haystack = \"leetcode\", needle = \"leeto\"\n",
    "输出：-1\n",
    "解释：\"leeto\" 没有在 \"leetcode\" 中出现，所以返回 -1 。\n",
    " \n",
    "\n",
    "提示：\n",
    "\n",
    "1 <= haystack.length, needle.length <= 104\n",
    "haystack 和 needle 仅由小写英文字符组成"
   ]
  },
  {
   "cell_type": "code",
   "execution_count": 11,
   "metadata": {},
   "outputs": [],
   "source": [
    "class Solution:\n",
    "    def strStr(self, haystack: str, needle: str) -> int:\n",
    "      loop : bool = True\n",
    "      id : int = 0\n",
    "      \n",
    "      if needle not in haystack:\n",
    "        return -1\n",
    "      \n",
    "      while(loop):\n",
    "        if needle in haystack[id:len(needle) + id]:\n",
    "          loop = False\n",
    "          \n",
    "        else:\n",
    "          id += 1\n",
    "        \n",
    "      return id"
   ]
  },
  {
   "cell_type": "code",
   "execution_count": 13,
   "metadata": {},
   "outputs": [
    {
     "data": {
      "text/plain": [
       "-1"
      ]
     },
     "execution_count": 13,
     "metadata": {},
     "output_type": "execute_result"
    }
   ],
   "source": [
    "demo = Solution()\n",
    "haystack = \"sadbutsad\"\n",
    "needle = \"sad\"\n",
    "haystack = \"leetcode\"\n",
    "needle = \"leeto\"\n",
    "demo.strStr(haystack, needle)"
   ]
  }
 ],
 "metadata": {
  "kernelspec": {
   "display_name": "leetcode_venv",
   "language": "python",
   "name": "python3"
  },
  "language_info": {
   "codemirror_mode": {
    "name": "ipython",
    "version": 3
   },
   "file_extension": ".py",
   "mimetype": "text/x-python",
   "name": "python",
   "nbconvert_exporter": "python",
   "pygments_lexer": "ipython3",
   "version": "3.10.4"
  }
 },
 "nbformat": 4,
 "nbformat_minor": 2
}
