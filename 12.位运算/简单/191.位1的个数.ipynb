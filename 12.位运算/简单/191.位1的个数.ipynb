{
 "cells": [
  {
   "cell_type": "markdown",
   "metadata": {},
   "source": [
    "编写一个函数，获取一个正整数的二进制形式并返回其二进制表达式中 \n",
    "设置位\n",
    " 的个数（也被称为汉明重量）。\n",
    "\n",
    " \n",
    "\n",
    "示例 1：\n",
    "\n",
    "输入：n = 11\n",
    "输出：3\n",
    "解释：输入的二进制串 1011 中，共有 3 个设置位。\n",
    "示例 2：\n",
    "\n",
    "输入：n = 128\n",
    "输出：1\n",
    "解释：输入的二进制串 10000000 中，共有 1 个设置位。\n",
    "示例 3：\n",
    "\n",
    "输入：n = 2147483645\n",
    "输出：30\n",
    "解释：输入的二进制串 1111111111111111111111111111101 中，共有 30 个设置位。\n",
    " \n",
    "\n",
    "提示：\n",
    "\n",
    "1 <= n <= 231 - 1\n",
    " \n",
    "\n",
    "进阶：\n",
    "\n",
    "如果多次调用这个函数，你将如何优化你的算法？"
   ]
  },
  {
   "cell_type": "code",
   "execution_count": 4,
   "metadata": {},
   "outputs": [],
   "source": [
    "class Solution:\n",
    "    def hammingWeight(self, n: int) -> int:\n",
    "      n = bin(n)[2:]\n",
    "      \n",
    "      return n.count('1')"
   ]
  },
  {
   "cell_type": "code",
   "execution_count": 5,
   "metadata": {},
   "outputs": [
    {
     "data": {
      "text/plain": [
       "30"
      ]
     },
     "execution_count": 5,
     "metadata": {},
     "output_type": "execute_result"
    }
   ],
   "source": [
    "demo = Solution()\n",
    "n = 2147483645\n",
    "demo.hammingWeight(n)"
   ]
  },
  {
   "cell_type": "code",
   "execution_count": 2,
   "metadata": {},
   "outputs": [
    {
     "data": {
      "text/plain": [
       "'10000000'"
      ]
     },
     "execution_count": 2,
     "metadata": {},
     "output_type": "execute_result"
    }
   ],
   "source": [
    "n= 128\n",
    "bin(n)[2:]"
   ]
  }
 ],
 "metadata": {
  "kernelspec": {
   "display_name": "leetcode_venv",
   "language": "python",
   "name": "python3"
  },
  "language_info": {
   "codemirror_mode": {
    "name": "ipython",
    "version": 3
   },
   "file_extension": ".py",
   "mimetype": "text/x-python",
   "name": "python",
   "nbconvert_exporter": "python",
   "pygments_lexer": "ipython3",
   "version": "3.10.4"
  }
 },
 "nbformat": 4,
 "nbformat_minor": 2
}
