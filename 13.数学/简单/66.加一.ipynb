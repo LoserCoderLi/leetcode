{
 "cells": [
  {
   "cell_type": "markdown",
   "metadata": {},
   "source": [
    "给定一个由 整数 组成的 非空 数组所表示的非负整数，在该数的基础上加一。\n",
    "\n",
    "最高位数字存放在数组的首位， 数组中每个元素只存储单个数字。\n",
    "\n",
    "你可以假设除了整数 0 之外，这个整数不会以零开头。\n",
    "\n",
    " \n",
    "\n",
    "示例 1：\n",
    "\n",
    "输入：digits = [1,2,3]\n",
    "输出：[1,2,4]\n",
    "解释：输入数组表示数字 123。\n",
    "示例 2：\n",
    "\n",
    "输入：digits = [4,3,2,1]\n",
    "输出：[4,3,2,2]\n",
    "解释：输入数组表示数字 4321。\n",
    "示例 3：\n",
    "\n",
    "输入：digits = [0]\n",
    "输出：[1]\n",
    " \n",
    "\n",
    "提示：\n",
    "\n",
    "1 <= digits.length <= 100\n",
    "0 <= digits[i] <= 9"
   ]
  },
  {
   "cell_type": "code",
   "execution_count": 18,
   "metadata": {},
   "outputs": [],
   "source": [
    "from typing import List\n",
    "class Solution:\n",
    "    def plusOne(self, digits: List[int]) -> List[int]:\n",
    "      number = 0\n",
    "      for i in digits:\n",
    "        number *= 10\n",
    "        number += i\n",
    "    \n",
    "      number += 1\n",
    "      digits = [0 for x in range(len(digits)+1)]\n",
    "      count = 0\n",
    "      while True:\n",
    "        if number == 0:\n",
    "          break\n",
    "        digits[len(digits) - 1 - count] = number % 10\n",
    "        number //= 10\n",
    "        count += 1\n",
    "      if digits[0] != 0:\n",
    "        return digits\n",
    "      else:\n",
    "        return digits[1:]\n",
    "        "
   ]
  },
  {
   "cell_type": "code",
   "execution_count": 19,
   "metadata": {},
   "outputs": [
    {
     "name": "stdout",
     "output_type": "stream",
     "text": [
      "10\n"
     ]
    },
    {
     "data": {
      "text/plain": [
       "[1, 0]"
      ]
     },
     "execution_count": 19,
     "metadata": {},
     "output_type": "execute_result"
    }
   ],
   "source": [
    "demo = Solution()\n",
    "digits = [9]\n",
    "demo.plusOne(digits)\n"
   ]
  },
  {
   "cell_type": "code",
   "execution_count": 8,
   "metadata": {},
   "outputs": [
    {
     "name": "stdout",
     "output_type": "stream",
     "text": [
      "124\n"
     ]
    }
   ],
   "source": [
    "\n",
    "n = len(digits)\n",
    "number = 0\n",
    "for i in digits:\n",
    "  number *= 10\n",
    "  number += i\n",
    "  \n",
    "print(number)"
   ]
  },
  {
   "cell_type": "code",
   "execution_count": 9,
   "metadata": {},
   "outputs": [],
   "source": [
    "digits = [0 for x in range(len(digits)+1)]"
   ]
  },
  {
   "cell_type": "code",
   "execution_count": 10,
   "metadata": {},
   "outputs": [
    {
     "data": {
      "text/plain": [
       "[0, 0, 0, 0]"
      ]
     },
     "execution_count": 10,
     "metadata": {},
     "output_type": "execute_result"
    }
   ],
   "source": [
    "digits"
   ]
  }
 ],
 "metadata": {
  "kernelspec": {
   "display_name": "leetcode_venv",
   "language": "python",
   "name": "python3"
  },
  "language_info": {
   "codemirror_mode": {
    "name": "ipython",
    "version": 3
   },
   "file_extension": ".py",
   "mimetype": "text/x-python",
   "name": "python",
   "nbconvert_exporter": "python",
   "pygments_lexer": "ipython3",
   "version": "3.10.4"
  }
 },
 "nbformat": 4,
 "nbformat_minor": 2
}
