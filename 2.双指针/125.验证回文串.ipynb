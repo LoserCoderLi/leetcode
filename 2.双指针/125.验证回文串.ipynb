{
 "cells": [
  {
   "cell_type": "markdown",
   "metadata": {},
   "source": [
    "125. 验证回文串\n",
    "简单\n",
    "相关标签\n",
    "相关企业\n",
    "如果在将所有大写字符转换为小写字符、并移除所有非字母数字字符之后，短语正着读和反着读都一样。则可以认为该短语是一个 回文串 。\n",
    "\n",
    "字母和数字都属于字母数字字符。\n",
    "\n",
    "给你一个字符串 s，如果它是 回文串 ，返回 true ；否则，返回 false 。\n",
    "\n",
    " \n",
    "\n",
    "示例 1：\n",
    "\n",
    "输入: s = \"A man, a plan, a canal: Panama\"\n",
    "输出：true\n",
    "解释：\"amanaplanacanalpanama\" 是回文串。\n",
    "示例 2：\n",
    "\n",
    "输入：s = \"race a car\"\n",
    "输出：false\n",
    "解释：\"raceacar\" 不是回文串。\n",
    "示例 3：\n",
    "\n",
    "输入：s = \" \"\n",
    "输出：true\n",
    "解释：在移除非字母数字字符之后，s 是一个空字符串 \"\" 。\n",
    "由于空字符串正着反着读都一样，所以是回文串。\n",
    " \n",
    "\n",
    "提示：\n",
    "\n",
    "1 <= s.length <= 2 * 105\n",
    "s 仅由可打印的 ASCII 字符组成"
   ]
  },
  {
   "cell_type": "code",
   "execution_count": 27,
   "metadata": {},
   "outputs": [],
   "source": [
    "class Solution:\n",
    "    def isPalindrome(self, s: str) -> bool:\n",
    "      s = s.lower()\n",
    "      start : int = 0\n",
    "      end : int = len(s) - 1\n",
    "      \n",
    "      nums = [48, 49, 50, 51, 52, 53, 54, 55, 56, 57]\n",
    "      for x in range(97, 123):\n",
    "        nums.append(x)\n",
    "\n",
    "      \n",
    "      isTure = True\n",
    "      while(start < end):\n",
    "        \n",
    "        loop_s = True\n",
    "        loop_e = True\n",
    "        while(loop_s):\n",
    "          if start >= len(s):\n",
    "            return isTure\n",
    "          \n",
    "          if ord(s[start]) not in nums:\n",
    "            start += 1\n",
    "          else :\n",
    "            loop_s = False\n",
    "            \n",
    "        while(loop_e):\n",
    "          if end < 0:\n",
    "            return isTure\n",
    "          \n",
    "          if ord(s[end]) not in nums:\n",
    "            end -= 1\n",
    "          else :\n",
    "            loop_e = False\n",
    "            \n",
    "        if s[start] != s[end]:\n",
    "          isTure = False\n",
    "          return isTure\n",
    "        \n",
    "        start += 1\n",
    "        end -= 1\n",
    "          \n",
    "      return isTure\n",
    "          \n",
    "      "
   ]
  },
  {
   "cell_type": "code",
   "execution_count": 28,
   "metadata": {},
   "outputs": [
    {
     "data": {
      "text/plain": [
       "False"
      ]
     },
     "execution_count": 28,
     "metadata": {},
     "output_type": "execute_result"
    }
   ],
   "source": [
    "demo = Solution()\n",
    "s = \"0P\"\n",
    "demo.isPalindrome(s)"
   ]
  },
  {
   "cell_type": "code",
   "execution_count": null,
   "metadata": {},
   "outputs": [],
   "source": []
  },
  {
   "cell_type": "code",
   "execution_count": 24,
   "metadata": {},
   "outputs": [
    {
     "data": {
      "text/plain": [
       "48"
      ]
     },
     "execution_count": 24,
     "metadata": {},
     "output_type": "execute_result"
    }
   ],
   "source": [
    "s = \"0P\"\n",
    "s = s.lower()\n",
    "\n",
    "ord(\"0\")"
   ]
  }
 ],
 "metadata": {
  "kernelspec": {
   "display_name": "leetcode_venv",
   "language": "python",
   "name": "python3"
  },
  "language_info": {
   "codemirror_mode": {
    "name": "ipython",
    "version": 3
   },
   "file_extension": ".py",
   "mimetype": "text/x-python",
   "name": "python",
   "nbconvert_exporter": "python",
   "pygments_lexer": "ipython3",
   "version": "3.10.4"
  }
 },
 "nbformat": 4,
 "nbformat_minor": 2
}
