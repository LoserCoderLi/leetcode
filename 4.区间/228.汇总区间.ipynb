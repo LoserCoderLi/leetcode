{
 "cells": [
  {
   "cell_type": "markdown",
   "metadata": {},
   "source": [
    "228. 汇总区间\n",
    "简单\n",
    "相关标签\n",
    "相关企业\n",
    "给定一个  无重复元素 的 有序 整数数组 nums 。\n",
    "\n",
    "返回 恰好覆盖数组中所有数字 的 最小有序 区间范围列表 。也就是说，nums 的每个元素都恰好被某个区间范围所覆盖，并且不存在属于某个范围但不属于 nums 的数字 x 。\n",
    "\n",
    "列表中的每个区间范围 [a,b] 应该按如下格式输出：\n",
    "\n",
    "\"a->b\" ，如果 a != b\n",
    "\"a\" ，如果 a == b\n",
    " \n",
    "\n",
    "示例 1：\n",
    "\n",
    "输入：nums = [0,1,2,4,5,7]\n",
    "输出：[\"0->2\",\"4->5\",\"7\"]\n",
    "解释：区间范围是：\n",
    "[0,2] --> \"0->2\"\n",
    "[4,5] --> \"4->5\"\n",
    "[7,7] --> \"7\"\n",
    "示例 2：\n",
    "\n",
    "输入：nums = [0,2,3,4,6,8,9]\n",
    "输出：[\"0\",\"2->4\",\"6\",\"8->9\"]\n",
    "解释：区间范围是：\n",
    "[0,0] --> \"0\"\n",
    "[2,4] --> \"2->4\"\n",
    "[6,6] --> \"6\"\n",
    "[8,9] --> \"8->9\"\n",
    " \n",
    "\n",
    "提示：\n",
    "\n",
    "0 <= nums.length <= 20\n",
    "-231 <= nums[i] <= 231 - 1\n",
    "nums 中的所有值都 互不相同\n",
    "nums 按升序排列"
   ]
  },
  {
   "cell_type": "code",
   "execution_count": 50,
   "metadata": {},
   "outputs": [],
   "source": [
    "from typing import List\n",
    "\n",
    "\n",
    "class Solution:\n",
    "    def summaryRanges(self, nums: List[int]) -> List[str]:\n",
    "      nums_new = []\n",
    "      if len(nums) == 0:\n",
    "        return nums_new\n",
    "      \n",
    "      start : int = nums[0]\n",
    "      end : int = nums[0]\n",
    "      \n",
    "      for x in range(1, len(nums)):\n",
    "        if abs(nums[x] - end) > 1:\n",
    "          if start == end:\n",
    "            nums_new.append(f\"{start}\")\n",
    "          else:\n",
    "            nums_new.append(f\"{start}->{end}\")\n",
    "          start = nums[x]\n",
    "        end = nums[x]  \n",
    "\n",
    "      if start == end:\n",
    "            nums_new.append(f\"{start}\")\n",
    "      else:\n",
    "        nums_new.append(f\"{start}->{end}\")\n",
    "      return nums_new"
   ]
  },
  {
   "cell_type": "code",
   "execution_count": 51,
   "metadata": {},
   "outputs": [
    {
     "data": {
      "text/plain": [
       "['0']"
      ]
     },
     "execution_count": 51,
     "metadata": {},
     "output_type": "execute_result"
    }
   ],
   "source": [
    "demo = Solution()\n",
    "nums = [0]\n",
    "# nums = [0,2,3,4,6,8,9]\n",
    "demo.summaryRanges(nums)"
   ]
  }
 ],
 "metadata": {
  "kernelspec": {
   "display_name": "leetcode_venv",
   "language": "python",
   "name": "python3"
  },
  "language_info": {
   "codemirror_mode": {
    "name": "ipython",
    "version": 3
   },
   "file_extension": ".py",
   "mimetype": "text/x-python",
   "name": "python",
   "nbconvert_exporter": "python",
   "pygments_lexer": "ipython3",
   "version": "3.10.4"
  }
 },
 "nbformat": 4,
 "nbformat_minor": 2
}
