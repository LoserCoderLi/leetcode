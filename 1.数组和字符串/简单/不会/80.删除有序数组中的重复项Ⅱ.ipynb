{
 "cells": [
  {
   "cell_type": "markdown",
   "metadata": {},
   "source": [
    "80. 删除有序数组中的重复项 II\n",
    "中等\n",
    "相关标签\n",
    "相关企业\n",
    "给你一个有序数组 nums ，请你 原地 删除重复出现的元素，使得出现次数超过两次的元素只出现两次 ，返回删除后数组的新长度。\n",
    "\n",
    "不要使用额外的数组空间，你必须在 原地 修改输入数组 并在使用 O(1) 额外空间的条件下完成。\n",
    "\n",
    " \n",
    "\n",
    "说明：\n",
    "\n",
    "为什么返回数值是整数，但输出的答案是数组呢？\n",
    "\n",
    "请注意，输入数组是以「引用」方式传递的，这意味着在函数里修改输入数组对于调用者是可见的。\n",
    "\n",
    "你可以想象内部操作如下:\n",
    "\n",
    "// nums 是以“引用”方式传递的。也就是说，不对实参做任何拷贝\n",
    "int len = removeDuplicates(nums);\n",
    "\n",
    "// 在函数里修改输入数组对于调用者是可见的。\n",
    "// 根据你的函数返回的长度, 它会打印出数组中 该长度范围内 的所有元素。\n",
    "for (int i = 0; i < len; i++) {\n",
    "    print(nums[i]);\n",
    "}\n",
    " \n",
    "示例 1：\n",
    "\n",
    "输入：nums = [1,1,1,2,2,3]\n",
    "输出：5, nums = [1,1,2,2,3]\n",
    "解释：函数应返回新长度 length = 5, 并且原数组的前五个元素被修改为 1, 1, 2, 2, 3。 不需要考虑数组中超出新长度后面的元素。\n",
    "示例 2：\n",
    "\n",
    "输入：nums = [0,0,1,1,1,1,2,3,3]\n",
    "输出：7, nums = [0,0,1,1,2,3,3]\n",
    "解释：函数应返回新长度 length = 7, 并且原数组的前七个元素被修改为 0, 0, 1, 1, 2, 3, 3。不需要考虑数组中超出新长度后面的元素。\n",
    " "
   ]
  },
  {
   "cell_type": "code",
   "execution_count": 82,
   "metadata": {},
   "outputs": [],
   "source": [
    "class Solution(object):\n",
    "    def removeDuplicates(self, nums):\n",
    "        \"\"\"\n",
    "        :type nums: List[int]\n",
    "        :rtype: int\n",
    "        \"\"\"\n",
    "        if len(nums) <= 2:\n",
    "            pass\n",
    "        else:\n",
    "            slow = 2\n",
    "            fast = 2\n",
    "            while(fast < len(nums)):\n",
    "                if nums[slow-2] != nums[fast]:\n",
    "                    nums[slow] = nums[fast]\n",
    "                    slow += 1\n",
    "                    fast += 1\n",
    "                else:\n",
    "                    fast += 1\n",
    "                    \n",
    "            tmp = 0\n",
    "            while(slow < fast):\n",
    "                del nums[fast - 1 - tmp]\n",
    "                tmp += 1\n",
    "                slow += 1\n",
    "\n",
    "                    "
   ]
  },
  {
   "cell_type": "code",
   "execution_count": 83,
   "metadata": {},
   "outputs": [],
   "source": [
    "nums = [1,1,1,1,1,1,2,2,3] # 112  2  2  3\n",
    "nums = [0,0,1,1,1,1,2,3,3]\n",
    "demo = Solution()\n",
    "demo.removeDuplicates(nums)"
   ]
  },
  {
   "cell_type": "code",
   "execution_count": 84,
   "metadata": {},
   "outputs": [
    {
     "data": {
      "text/plain": [
       "[0, 0, 1, 1, 2, 3, 3]"
      ]
     },
     "execution_count": 84,
     "metadata": {},
     "output_type": "execute_result"
    }
   ],
   "source": [
    "nums"
   ]
  }
 ],
 "metadata": {
  "kernelspec": {
   "display_name": "leetcode_venv",
   "language": "python",
   "name": "python3"
  },
  "language_info": {
   "codemirror_mode": {
    "name": "ipython",
    "version": 3
   },
   "file_extension": ".py",
   "mimetype": "text/x-python",
   "name": "python",
   "nbconvert_exporter": "python",
   "pygments_lexer": "ipython3",
   "version": "3.10.4"
  }
 },
 "nbformat": 4,
 "nbformat_minor": 2
}
