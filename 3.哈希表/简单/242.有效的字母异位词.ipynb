{
 "cells": [
  {
   "cell_type": "markdown",
   "metadata": {},
   "source": [
    "242. 有效的字母异位词\n",
    "简单\n",
    "相关标签\n",
    "相关企业\n",
    "给定两个字符串 s 和 t ，编写一个函数来判断 t 是否是 s 的 \n",
    "字母异位词\n",
    "。\n",
    "\n",
    " \n",
    "\n",
    "示例 1:\n",
    "\n",
    "输入: s = \"anagram\", t = \"nagaram\"\n",
    "输出: true\n",
    "示例 2:\n",
    "\n",
    "输入: s = \"rat\", t = \"car\"\n",
    "输出: false\n",
    " \n",
    "\n",
    "提示:\n",
    "\n",
    "1 <= s.length, t.length <= 5 * 104\n",
    "s 和 t 仅包含小写字母\n",
    " \n",
    "\n",
    "进阶: 如果输入字符串包含 unicode 字符怎么办？你能否调整你的解法来应对这种情况？"
   ]
  },
  {
   "cell_type": "code",
   "execution_count": null,
   "metadata": {},
   "outputs": [],
   "source": [
    "from collections import Counter\n",
    "class Solution:\n",
    "    def isAnagram(self, s: str, t: str) -> bool:\n",
    "        return Counter(s) == Counter(t)"
   ]
  },
  {
   "cell_type": "code",
   "execution_count": 3,
   "metadata": {},
   "outputs": [],
   "source": [
    "from collections import Counter\n",
    "\n",
    "\n",
    "s = \"anagram\"\n",
    "t = \"nagaram\"\n"
   ]
  },
  {
   "cell_type": "code",
   "execution_count": 8,
   "metadata": {},
   "outputs": [],
   "source": [
    "s = Counter(s)\n"
   ]
  },
  {
   "cell_type": "code",
   "execution_count": 9,
   "metadata": {},
   "outputs": [],
   "source": [
    "t = Counter(t)\n"
   ]
  },
  {
   "cell_type": "code",
   "execution_count": 10,
   "metadata": {},
   "outputs": [
    {
     "data": {
      "text/plain": [
       "True"
      ]
     },
     "execution_count": 10,
     "metadata": {},
     "output_type": "execute_result"
    }
   ],
   "source": [
    "s == t"
   ]
  }
 ],
 "metadata": {
  "kernelspec": {
   "display_name": "leetcode_venv",
   "language": "python",
   "name": "python3"
  },
  "language_info": {
   "codemirror_mode": {
    "name": "ipython",
    "version": 3
   },
   "file_extension": ".py",
   "mimetype": "text/x-python",
   "name": "python",
   "nbconvert_exporter": "python",
   "pygments_lexer": "ipython3",
   "version": "3.10.4"
  }
 },
 "nbformat": 4,
 "nbformat_minor": 2
}
