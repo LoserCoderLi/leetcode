{
 "cells": [
  {
   "cell_type": "markdown",
   "metadata": {},
   "source": [
    "392. 判断子序列\n",
    "简单\n",
    "相关标签\n",
    "相关企业\n",
    "给定字符串 s 和 t ，判断 s 是否为 t 的子序列。\n",
    "\n",
    "字符串的一个子序列是原始字符串删除一些（也可以不删除）字符而不改变剩余字符相对位置形成的新字符串。（例如，\"ace\"是\"abcde\"的一个子序列，而\"aec\"不是）。\n",
    "\n",
    "进阶：\n",
    "\n",
    "如果有大量输入的 S，称作 S1, S2, ... , Sk 其中 k >= 10亿，你需要依次检查它们是否为 T 的子序列。在这种情况下，你会怎样改变代码？\n",
    "\n",
    "致谢：\n",
    "\n",
    "特别感谢 @pbrother 添加此问题并且创建所有测试用例。\n",
    "\n",
    " \n",
    "\n",
    "示例 1：\n",
    "\n",
    "输入：s = \"abc\", t = \"ahbgdc\"\n",
    "输出：true\n",
    "示例 2：\n",
    "\n",
    "输入：s = \"axc\", t = \"ahbgdc\"\n",
    "输出：false\n",
    " \n",
    "\n",
    "提示：\n",
    "\n",
    "0 <= s.length <= 100\n",
    "0 <= t.length <= 10^4\n",
    "两个字符串都只由小写字符组成。"
   ]
  },
  {
   "cell_type": "code",
   "execution_count": 14,
   "metadata": {},
   "outputs": [],
   "source": [
    "class Solution:\n",
    "    def isSubsequence(self, s: str, t: str) -> bool:\n",
    "      s_nums = len(s)\n",
    "      t_nums = len(t)\n",
    "      if t_nums < s_nums:\n",
    "        return False\n",
    "      \n",
    "      id : int = 0\n",
    "      \n",
    "      for x in s:\n",
    "        if x in t[id:]:\n",
    "          id += t[id:].index(x) + 1\n",
    "          print(id)\n",
    "        \n",
    "        else:\n",
    "          return False\n",
    "      \n",
    "      return True\n",
    "        "
   ]
  },
  {
   "cell_type": "code",
   "execution_count": 15,
   "metadata": {},
   "outputs": [
    {
     "name": "stdout",
     "output_type": "stream",
     "text": [
      "3\n",
      "4\n",
      "5\n",
      "6\n"
     ]
    },
    {
     "data": {
      "text/plain": [
       "False"
      ]
     },
     "execution_count": 15,
     "metadata": {},
     "output_type": "execute_result"
    }
   ],
   "source": [
    "demo = Solution()\n",
    "s = \"abc\"\n",
    "t = \"ahbgdc\"\n",
    "s = \"aaaaaa\"\n",
    "t = \"bbaaaa\"\n",
    "demo.isSubsequence(s,t)"
   ]
  }
 ],
 "metadata": {
  "kernelspec": {
   "display_name": "leetcode_venv",
   "language": "python",
   "name": "python3"
  },
  "language_info": {
   "codemirror_mode": {
    "name": "ipython",
    "version": 3
   },
   "file_extension": ".py",
   "mimetype": "text/x-python",
   "name": "python",
   "nbconvert_exporter": "python",
   "pygments_lexer": "ipython3",
   "version": "3.10.4"
  }
 },
 "nbformat": 4,
 "nbformat_minor": 2
}
