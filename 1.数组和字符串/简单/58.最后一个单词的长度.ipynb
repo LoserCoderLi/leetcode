{
 "cells": [
  {
   "cell_type": "markdown",
   "metadata": {},
   "source": [
    "58. 最后一个单词的长度\n",
    "简单\n",
    "相关标签\n",
    "相关企业\n",
    "给你一个字符串 s，由若干单词组成，单词前后用一些空格字符隔开。返回字符串中 最后一个 单词的长度。\n",
    "\n",
    "单词 是指仅由字母组成、不包含任何空格字符的最大\n",
    "子字符串\n",
    "。\n",
    "\n",
    " \n",
    "\n",
    "示例 1：\n",
    "\n",
    "输入：s = \"Hello World\"\n",
    "输出：5\n",
    "解释：最后一个单词是“World”，长度为 5。\n",
    "示例 2：\n",
    "\n",
    "输入：s = \"   fly me   to   the moon  \"\n",
    "输出：4\n",
    "解释：最后一个单词是“moon”，长度为 4。\n",
    "示例 3：\n",
    "\n",
    "输入：s = \"luffy is still joyboy\"\n",
    "输出：6\n",
    "解释：最后一个单词是长度为 6 的“joyboy”。\n",
    " \n",
    "\n",
    "提示：\n",
    "\n",
    "1 <= s.length <= 104\n",
    "s 仅有英文字母和空格 ' ' 组成\n",
    "s 中至少存在一个单词"
   ]
  },
  {
   "cell_type": "code",
   "execution_count": 13,
   "metadata": {},
   "outputs": [],
   "source": [
    "class Solution:\n",
    "    def lengthOfLastWord(self, s: str) -> int:\n",
    "      list_s = s.split(\" \")\n",
    "      print(list_s)\n",
    "      n = len(list_s)\n",
    "      \n",
    "      for id in range(n - 1, -1, -1):\n",
    "        if list_s[id]:\n",
    "          return len(list_s[id])\n",
    "        \n",
    "      return 0\n",
    "      "
   ]
  },
  {
   "cell_type": "code",
   "execution_count": 21,
   "metadata": {},
   "outputs": [],
   "source": [
    "class Solution:\n",
    "    def lengthOfLastWord(self, s: str) -> int:\n",
    "      count : int = 0\n",
    "      len_last : int = 0\n",
    "      for id in range(len(s)-1, -1, -1):\n",
    "        if s[id] != \" \" :\n",
    "          \n",
    "          len_last += 1 \n",
    "          \n",
    "          if id > 0:\n",
    "            if s[id - 1] == \" \":\n",
    "              count = 2\n",
    "\n",
    "        if count == 2:\n",
    "          return len_last\n",
    "            \n",
    "      return len_last\n",
    "      "
   ]
  },
  {
   "cell_type": "code",
   "execution_count": 22,
   "metadata": {},
   "outputs": [
    {
     "name": "stdout",
     "output_type": "stream",
     "text": [
      " \n",
      " \n",
      "n\n",
      "o\n",
      "o\n",
      "m\n"
     ]
    },
    {
     "data": {
      "text/plain": [
       "4"
      ]
     },
     "execution_count": 22,
     "metadata": {},
     "output_type": "execute_result"
    }
   ],
   "source": [
    "demo = Solution()\n",
    "s = s = \"   fly me   to   the moon  \"\n",
    "demo.lengthOfLastWord(s)"
   ]
  },
  {
   "cell_type": "code",
   "execution_count": 8,
   "metadata": {},
   "outputs": [
    {
     "name": "stdout",
     "output_type": "stream",
     "text": [
      "5\n",
      "4\n",
      "3\n",
      "2\n",
      "1\n"
     ]
    }
   ],
   "source": [
    "for id in range(5, 0, -1):\n",
    "  print(id)\n"
   ]
  }
 ],
 "metadata": {
  "kernelspec": {
   "display_name": "leetcode_venv",
   "language": "python",
   "name": "python3"
  },
  "language_info": {
   "codemirror_mode": {
    "name": "ipython",
    "version": 3
   },
   "file_extension": ".py",
   "mimetype": "text/x-python",
   "name": "python",
   "nbconvert_exporter": "python",
   "pygments_lexer": "ipython3",
   "version": "3.10.4"
  }
 },
 "nbformat": 4,
 "nbformat_minor": 2
}
