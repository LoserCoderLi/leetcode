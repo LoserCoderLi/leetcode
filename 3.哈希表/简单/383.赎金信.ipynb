{
 "cells": [
  {
   "cell_type": "markdown",
   "metadata": {},
   "source": [
    "383. 赎金信\n",
    "简单\n",
    "相关标签\n",
    "相关企业\n",
    "给你两个字符串：ransomNote 和 magazine ，判断 ransomNote 能不能由 magazine 里面的字符构成。\n",
    "\n",
    "如果可以，返回 true ；否则返回 false 。\n",
    "\n",
    "magazine 中的每个字符只能在 ransomNote 中使用一次。\n",
    "\n",
    " \n",
    "\n",
    "示例 1：\n",
    "\n",
    "输入：ransomNote = \"a\", magazine = \"b\"\n",
    "输出：false\n",
    "示例 2：\n",
    "\n",
    "输入：ransomNote = \"aa\", magazine = \"ab\"\n",
    "输出：false\n",
    "示例 3：\n",
    "\n",
    "输入：ransomNote = \"aa\", magazine = \"aab\"\n",
    "输出：true\n",
    " \n",
    "\n",
    "提示：\n",
    "\n",
    "1 <= ransomNote.length, magazine.length <= 105\n",
    "ransomNote 和 magazine 由小写英文字母组成\n"
   ]
  },
  {
   "cell_type": "code",
   "execution_count": 13,
   "metadata": {},
   "outputs": [],
   "source": [
    "class Solution:\n",
    "    def canConstruct(self, ransomNote: str, magazine: str) -> bool:\n",
    "      isOk = True\n",
    "      \n",
    "      dict_r = {}\n",
    "      for x in ransomNote:\n",
    "        if x not in dict_r.keys():\n",
    "          dict_r[x] = 1\n",
    "        else:\n",
    "          dict_r[x] += 1\n",
    "      \n",
    "      dict_m = {}\n",
    "      for x in magazine:\n",
    "        if x not in dict_m.keys():\n",
    "          dict_m[x] = 1\n",
    "        else:\n",
    "          dict_m[x] += 1\n",
    "      \n",
    "      for x in dict_r.keys():\n",
    "        if x not in dict_m.keys():\n",
    "          isOk = False\n",
    "        else:\n",
    "          if dict_r[x] > dict_m[x]:\n",
    "            isOk = False\n",
    "          \n",
    "      return isOk"
   ]
  },
  {
   "cell_type": "code",
   "execution_count": 12,
   "metadata": {},
   "outputs": [
    {
     "name": "stdout",
     "output_type": "stream",
     "text": [
      "{'a': 1}\n",
      "{'b': 1}\n",
      "a\n"
     ]
    },
    {
     "data": {
      "text/plain": [
       "False"
      ]
     },
     "execution_count": 12,
     "metadata": {},
     "output_type": "execute_result"
    }
   ],
   "source": [
    "demo = Solution()\n",
    "ransomNote = \"a\"\n",
    "magazine = \"b\"\n",
    "demo.canConstruct(ransomNote,magazine)\n"
   ]
  },
  {
   "cell_type": "markdown",
   "metadata": {},
   "source": [
    "# 学习"
   ]
  },
  {
   "cell_type": "code",
   "execution_count": null,
   "metadata": {},
   "outputs": [],
   "source": [
    "from typing import Counter\n",
    "\n",
    "class Solution:\n",
    "    def canConstruct(self, ransomNote: str, magazine: str) -> bool:\n",
    "        return Counter(ransomNote) <= Counter(magazine)"
   ]
  }
 ],
 "metadata": {
  "kernelspec": {
   "display_name": "leetcode_venv",
   "language": "python",
   "name": "python3"
  },
  "language_info": {
   "codemirror_mode": {
    "name": "ipython",
    "version": 3
   },
   "file_extension": ".py",
   "mimetype": "text/x-python",
   "name": "python",
   "nbconvert_exporter": "python",
   "pygments_lexer": "ipython3",
   "version": "3.10.4"
  }
 },
 "nbformat": 4,
 "nbformat_minor": 2
}
