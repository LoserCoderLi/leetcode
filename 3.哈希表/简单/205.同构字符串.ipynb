{
 "cells": [
  {
   "cell_type": "markdown",
   "metadata": {},
   "source": [
    "205. 同构字符串\n",
    "简单\n",
    "相关标签\n",
    "相关企业\n",
    "给定两个字符串 s 和 t ，判断它们是否是同构的。\n",
    "\n",
    "如果 s 中的字符可以按某种映射关系替换得到 t ，那么这两个字符串是同构的。\n",
    "\n",
    "每个出现的字符都应当映射到另一个字符，同时不改变字符的顺序。不同字符不能映射到同一个字符上，相同字符只能映射到同一个字符上，字符可以映射到自己本身。\n",
    "\n",
    " \n",
    "\n",
    "示例 1:\n",
    "\n",
    "输入：s = \"egg\", t = \"add\"\n",
    "输出：true\n",
    "示例 2：\n",
    "\n",
    "输入：s = \"foo\", t = \"bar\"\n",
    "输出：false\n",
    "示例 3：\n",
    "\n",
    "输入：s = \"paper\", t = \"title\"\n",
    "输出：true"
   ]
  },
  {
   "cell_type": "code",
   "execution_count": 2,
   "metadata": {},
   "outputs": [],
   "source": [
    "class Solution:\n",
    "    def isIsomorphic(self, s: str, t: str) -> bool:\n",
    "      dic_s = {}\n",
    "      id = 0\n",
    "      while(id < len(s)):\n",
    "        if s[id] not in dic_s.keys():\n",
    "          if t[id] not in dic_s.values():\n",
    "            dic_s[s[id]] = t[id]\n",
    "          else:\n",
    "            return False\n",
    "        else:\n",
    "          if dic_s[s[id]] != t[id]:\n",
    "            return False\n",
    "          \n",
    "        id += 1\n",
    "      \n",
    "      return True\n",
    "          \n",
    "          \n",
    "        "
   ]
  },
  {
   "cell_type": "code",
   "execution_count": 5,
   "metadata": {},
   "outputs": [
    {
     "data": {
      "text/plain": [
       "True"
      ]
     },
     "execution_count": 5,
     "metadata": {},
     "output_type": "execute_result"
    }
   ],
   "source": [
    "demo = Solution()\n",
    "s = \"egg\"\n",
    "t = \"add\"\n",
    "s = \"foo\"\n",
    "t = \"bar\"\n",
    "s = \"paper\"\n",
    "t = \"title\"\n",
    "demo.isIsomorphic(s,t)"
   ]
  }
 ],
 "metadata": {
  "kernelspec": {
   "display_name": "leetcode_venv",
   "language": "python",
   "name": "python3"
  },
  "language_info": {
   "codemirror_mode": {
    "name": "ipython",
    "version": 3
   },
   "file_extension": ".py",
   "mimetype": "text/x-python",
   "name": "python",
   "nbconvert_exporter": "python",
   "pygments_lexer": "ipython3",
   "version": "3.10.4"
  }
 },
 "nbformat": 4,
 "nbformat_minor": 2
}
