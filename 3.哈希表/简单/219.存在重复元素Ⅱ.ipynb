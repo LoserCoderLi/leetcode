{
 "cells": [
  {
   "cell_type": "markdown",
   "metadata": {},
   "source": [
    "219. 存在重复元素 II\n",
    "简单\n",
    "相关标签\n",
    "相关企业\n",
    "给你一个整数数组 nums 和一个整数 k ，判断数组中是否存在两个 不同的索引 i 和 j ，满足 nums[i] == nums[j] 且 abs(i - j) <= k 。如果存在，返回 true ；否则，返回 false 。\n",
    "\n",
    " \n",
    "\n",
    "示例 1：\n",
    "\n",
    "输入：nums = [1,2,3,1], k = 3\n",
    "输出：true\n",
    "示例 2：\n",
    "\n",
    "输入：nums = [1,0,1,1], k = 1\n",
    "输出：true\n",
    "示例 3：\n",
    "\n",
    "输入：nums = [1,2,3,1,2,3], k = 2\n",
    "输出：false\n",
    " \n",
    "\n",
    " \n",
    "\n",
    "提示：\n",
    "\n",
    "1 <= nums.length <= 105\n",
    "-109 <= nums[i] <= 109\n",
    "0 <= k <= 105"
   ]
  },
  {
   "cell_type": "code",
   "execution_count": 7,
   "metadata": {},
   "outputs": [],
   "source": [
    "from typing import List\n",
    "\n",
    "\n",
    "class Solution:\n",
    "    def containsNearbyDuplicate(self, nums: List[int], k: int) -> bool:\n",
    "      dic_nums = {}\n",
    "      for id, x in enumerate(nums):\n",
    "        if x not in dic_nums.keys():\n",
    "          dic_nums[x] = id\n",
    "        else:\n",
    "          if abs(dic_nums[x] - id) <= k:\n",
    "            return True\n",
    "          else:\n",
    "            dic_nums[x] = id\n",
    "      return False"
   ]
  },
  {
   "cell_type": "code",
   "execution_count": 10,
   "metadata": {},
   "outputs": [
    {
     "data": {
      "text/plain": [
       "False"
      ]
     },
     "execution_count": 10,
     "metadata": {},
     "output_type": "execute_result"
    }
   ],
   "source": [
    "demo = Solution()\n",
    "nums = [1,2,3,1]\n",
    "k = 3\n",
    "nums = [1,0,1,1]\n",
    "k = 1\n",
    "nums = [1,2,3,1,2,3]\n",
    "k = 2\n",
    "demo.containsNearbyDuplicate(nums, k)"
   ]
  },
  {
   "cell_type": "code",
   "execution_count": 3,
   "metadata": {},
   "outputs": [
    {
     "name": "stdout",
     "output_type": "stream",
     "text": [
      "0\n",
      "1\n",
      "1\n",
      "2\n",
      "2\n",
      "3\n",
      "3\n",
      "1\n"
     ]
    }
   ],
   "source": [
    "nums = [1,2,3,1]\n",
    "for id, x in enumerate(nums):\n",
    "  print(id)\n",
    "  print(x)\n",
    "  "
   ]
  }
 ],
 "metadata": {
  "kernelspec": {
   "display_name": "leetcode_venv",
   "language": "python",
   "name": "python3"
  },
  "language_info": {
   "codemirror_mode": {
    "name": "ipython",
    "version": 3
   },
   "file_extension": ".py",
   "mimetype": "text/x-python",
   "name": "python",
   "nbconvert_exporter": "python",
   "pygments_lexer": "ipython3",
   "version": "3.10.4"
  }
 },
 "nbformat": 4,
 "nbformat_minor": 2
}
