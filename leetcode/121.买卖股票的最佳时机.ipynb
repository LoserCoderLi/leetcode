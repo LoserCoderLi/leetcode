{
 "cells": [
  {
   "cell_type": "markdown",
   "metadata": {},
   "source": [
    "121. 买卖股票的最佳时机\n",
    "简单\n",
    "相关标签\n",
    "相关企业\n",
    "给定一个数组 prices ，它的第 i 个元素 prices[i] 表示一支给定股票第 i 天的价格。\n",
    "\n",
    "你只能选择 某一天 买入这只股票，并选择在 未来的某一个不同的日子 卖出该股票。设计一个算法来计算你所能获取的最大利润。\n",
    "\n",
    "返回你可以从这笔交易中获取的最大利润。如果你不能获取任何利润，返回 0 。\n",
    "\n",
    " \n",
    "\n",
    "示例 1：\n",
    "\n",
    "输入：[7,1,5,3,6,4]\n",
    "输出：5\n",
    "解释：在第 2 天（股票价格 = 1）的时候买入，在第 5 天（股票价格 = 6）的时候卖出，最大利润 = 6-1 = 5 。\n",
    "     注意利润不能是 7-1 = 6, 因为卖出价格需要大于买入价格；同时，你不能在买入前卖出股票。\n",
    "示例 2：\n",
    "\n",
    "输入：prices = [7,6,4,3,1]\n",
    "输出：0\n",
    "解释：在这种情况下, 没有交易完成, 所以最大利润为 0。\n",
    " \n",
    "\n",
    "提示：\n",
    "\n",
    "1 <= prices.length <= 105\n",
    "0 <= prices[i] <= 104"
   ]
  },
  {
   "cell_type": "code",
   "execution_count": 21,
   "metadata": {},
   "outputs": [],
   "source": [
    "class Solution(object):\n",
    "    def maxProfit(self, prices):\n",
    "        \"\"\"\n",
    "        :type prices: List[int]\n",
    "        :rtype: int\n",
    "        \"\"\"\n",
    "        prices_next = []\n",
    "        id_ = 0\n",
    "        max_ = 0\n",
    "        while id_ < len(prices) - 1:\n",
    "          \n",
    "          max_temp = max(prices[id_:]) - prices[id_]\n",
    "          if max_temp > max_:\n",
    "            max_ = max_temp\n",
    "            \n",
    "        # for x in prices:\n",
    "        #   id += 1\n",
    "        #   prices_next[:] = prices[id:]\n",
    "        #   if prices_next:\n",
    "        #     max_temp = max(prices_next) - x\n",
    "        #     if max_temp > max_:\n",
    "        #       max_ = max_temp\n",
    "        \n",
    "        return max_"
   ]
  },
  {
   "cell_type": "code",
   "execution_count": 22,
   "metadata": {},
   "outputs": [
    {
     "name": "stdout",
     "output_type": "stream",
     "text": [
      "[1, 5, 3, 6, 4]\n",
      "6\n",
      "-1\n",
      "[5, 3, 6, 4]\n",
      "6\n",
      "5\n",
      "[3, 6, 4]\n",
      "6\n",
      "1\n",
      "[6, 4]\n",
      "6\n",
      "3\n",
      "[4]\n",
      "4\n",
      "-2\n",
      "[]\n"
     ]
    },
    {
     "data": {
      "text/plain": [
       "5"
      ]
     },
     "execution_count": 22,
     "metadata": {},
     "output_type": "execute_result"
    }
   ],
   "source": [
    "nums = [7,1,5,3,6,4]\n",
    "demo = Solution()\n",
    "demo.maxProfit(nums)"
   ]
  },
  {
   "cell_type": "code",
   "execution_count": 3,
   "metadata": {},
   "outputs": [
    {
     "data": {
      "text/plain": [
       "[1]"
      ]
     },
     "execution_count": 3,
     "metadata": {},
     "output_type": "execute_result"
    }
   ],
   "source": [
    "nums[1:2]"
   ]
  }
 ],
 "metadata": {
  "kernelspec": {
   "display_name": "leetcode_venv",
   "language": "python",
   "name": "python3"
  },
  "language_info": {
   "codemirror_mode": {
    "name": "ipython",
    "version": 3
   },
   "file_extension": ".py",
   "mimetype": "text/x-python",
   "name": "python",
   "nbconvert_exporter": "python",
   "pygments_lexer": "ipython3",
   "version": "3.10.4"
  }
 },
 "nbformat": 4,
 "nbformat_minor": 2
}
