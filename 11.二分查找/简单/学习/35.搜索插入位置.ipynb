{
 "cells": [
  {
   "cell_type": "markdown",
   "metadata": {},
   "source": [
    "给定一个排序数组和一个目标值，在数组中找到目标值，并返回其索引。如果目标值不存在于数组中，返回它将会被按顺序插入的位置。\n",
    "\n",
    "请必须使用时间复杂度为 O(log n) 的算法。\n",
    "\n",
    " \n",
    "\n",
    "示例 1:\n",
    "\n",
    "输入: nums = [1,3,5,6], target = 5\n",
    "输出: 2\n",
    "示例 2:\n",
    "\n",
    "输入: nums = [1,3,5,6], target = 2\n",
    "输出: 1\n",
    "示例 3:\n",
    "\n",
    "输入: nums = [1,3,5,6], target = 7\n",
    "输出: 4\n",
    " \n",
    "\n",
    "提示:\n",
    "\n",
    "1 <= nums.length <= 104\n",
    "-104 <= nums[i] <= 104\n",
    "nums 为 无重复元素 的 升序 排列数组\n",
    "-104 <= target <= 104"
   ]
  },
  {
   "cell_type": "code",
   "execution_count": 5,
   "metadata": {},
   "outputs": [],
   "source": [
    "from typing  import List\n",
    "\n",
    "class Solution:\n",
    "  def getSet(self, nums, target, left, right):\n",
    "    if left > right:\n",
    "      return left\n",
    "    mid = (left + right) // 2\n",
    "    if nums[mid] == target:\n",
    "      return mid\n",
    "    if nums[mid] < target:\n",
    "      return self.getSet(nums, target, mid + 1, right)\n",
    "    return self.getSet(nums, target, left, mid - 1)\n",
    "  \n",
    "  def searchInsert(self, nums: List[int], target: int) -> int:\n",
    "      return self.getSet(nums, target, 0, len(nums) - 1)"
   ]
  },
  {
   "cell_type": "code",
   "execution_count": 7,
   "metadata": {},
   "outputs": [
    {
     "data": {
      "text/plain": [
       "4"
      ]
     },
     "execution_count": 7,
     "metadata": {},
     "output_type": "execute_result"
    }
   ],
   "source": [
    "demo = Solution()\n",
    "nums = [1,3,5,6]\n",
    "target = 7\n",
    "demo.searchInsert(nums, target)"
   ]
  }
 ],
 "metadata": {
  "kernelspec": {
   "display_name": "leetcode_venv",
   "language": "python",
   "name": "python3"
  },
  "language_info": {
   "codemirror_mode": {
    "name": "ipython",
    "version": 3
   },
   "file_extension": ".py",
   "mimetype": "text/x-python",
   "name": "python",
   "nbconvert_exporter": "python",
   "pygments_lexer": "ipython3",
   "version": "3.10.4"
  }
 },
 "nbformat": 4,
 "nbformat_minor": 2
}
