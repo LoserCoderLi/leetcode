{
 "cells": [
  {
   "cell_type": "markdown",
   "metadata": {},
   "source": [
    "20. 有效的括号\n",
    "简单\n",
    "相关标签\n",
    "相关企业\n",
    "提示\n",
    "给定一个只包括 '('，')'，'{'，'}'，'['，']' 的字符串 s ，判断字符串是否有效。\n",
    "\n",
    "有效字符串需满足：\n",
    "\n",
    "左括号必须用相同类型的右括号闭合。\n",
    "左括号必须以正确的顺序闭合。\n",
    "每个右括号都有一个对应的相同类型的左括号。\n",
    " \n",
    "\n",
    "示例 1：\n",
    "\n",
    "输入：s = \"()\"\n",
    "\n",
    "输出：true\n",
    "\n",
    "示例 2：\n",
    "\n",
    "输入：s = \"()[]{}\"\n",
    "\n",
    "输出：true\n",
    "\n",
    "示例 3：\n",
    "\n",
    "输入：s = \"(]\"\n",
    "\n",
    "输出：false\n",
    "\n",
    "示例 4：\n",
    "\n",
    "输入：s = \"([])\"\n",
    "\n",
    "输出：true\n",
    "\n",
    " \n",
    "\n",
    "提示：\n",
    "\n",
    "1 <= s.length <= 104\n",
    "s 仅由括号 '()[]{}' 组成"
   ]
  },
  {
   "cell_type": "code",
   "execution_count": 6,
   "metadata": {},
   "outputs": [],
   "source": [
    "class Solution:\n",
    "    def isValid(self, s: str) -> bool:\n",
    "      s_temp = []\n",
    "      id = -1\n",
    "      for x in s:\n",
    "        if x == '(' or x == '[' or x == '{':\n",
    "          s_temp.append(x)\n",
    "          id += 1\n",
    "        else:\n",
    "          if id == -1:\n",
    "            return False\n",
    "          if x == ')' and s_temp[id] != '(':\n",
    "            return False\n",
    "          elif x == ']' and s_temp[id] != '[':\n",
    "            return False\n",
    "          elif x == '}' and s_temp[id] != '{':\n",
    "            return False\n",
    "          else:\n",
    "            s_temp.pop(id)\n",
    "            id -= 1\n",
    "          \n",
    "      if len(s_temp) != 0:\n",
    "        return False\n",
    "      return True"
   ]
  },
  {
   "cell_type": "code",
   "execution_count": 10,
   "metadata": {},
   "outputs": [
    {
     "data": {
      "text/plain": [
       "True"
      ]
     },
     "execution_count": 10,
     "metadata": {},
     "output_type": "execute_result"
    }
   ],
   "source": [
    "demo = Solution()\n",
    "s = \"()\"\n",
    "# s = \"()[]{}\"\n",
    "# s = \"(]\"\n",
    "# s = \"([])\"\n",
    "demo.isValid(s)"
   ]
  }
 ],
 "metadata": {
  "kernelspec": {
   "display_name": "leetcode_venv",
   "language": "python",
   "name": "python3"
  },
  "language_info": {
   "codemirror_mode": {
    "name": "ipython",
    "version": 3
   },
   "file_extension": ".py",
   "mimetype": "text/x-python",
   "name": "python",
   "nbconvert_exporter": "python",
   "pygments_lexer": "ipython3",
   "version": "3.10.4"
  }
 },
 "nbformat": 4,
 "nbformat_minor": 2
}
